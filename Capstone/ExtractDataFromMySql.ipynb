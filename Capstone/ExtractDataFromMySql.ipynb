{
 "cells": [
  {
   "cell_type": "code",
   "execution_count": 1,
   "metadata": {
    "ExecuteTime": {
     "end_time": "2021-04-29T14:04:27.641291Z",
     "start_time": "2021-04-29T14:04:27.637405Z"
    }
   },
   "outputs": [],
   "source": [
    "#!pip install mysql-connector-python"
   ]
  },
  {
   "cell_type": "code",
   "execution_count": 2,
   "metadata": {
    "ExecuteTime": {
     "end_time": "2021-04-29T14:04:48.538361Z",
     "start_time": "2021-04-29T14:04:28.600517Z"
    }
   },
   "outputs": [],
   "source": [
    "import warnings\n",
    "warnings.filterwarnings(\"ignore\")\n",
    "\n",
    "import mysql.connector\n",
    "import pandas as pd\n",
    "import numpy as np\n",
    "import seaborn as sns\n",
    "import matplotlib.pyplot as plt\n",
    "\n",
    "%matplotlib inline"
   ]
  },
  {
   "cell_type": "code",
   "execution_count": 3,
   "metadata": {
    "ExecuteTime": {
     "end_time": "2021-04-29T14:05:30.344463Z",
     "start_time": "2021-04-29T14:04:48.652450Z"
    }
   },
   "outputs": [],
   "source": [
    "#- connect to mysql and extract the gender_age_train,phone_brand_device_model data\n",
    "try:\n",
    "    cnx = mysql.connector.connect(user='student', password='student', host='cpanel.insaid.co', database='Capstone1')\n",
    "    gender_qry = \"Select * from gender_age_train;\"\n",
    "    gender_age_train_df = pd.read_sql(gender_qry,cnx)\n",
    "    phone_brand_qry = \"Select * from phone_brand_device_model ;\"\n",
    "    phone_brand_device_model_df = pd.read_sql(phone_brand_qry,cnx)\n",
    "    cnx.close() #close the connection\n",
    "except Exception as e:\n",
    "    if cnx:\n",
    "        cnx.close() #close the connection\n",
    "    print(str(e))"
   ]
  },
  {
   "cell_type": "code",
   "execution_count": 4,
   "metadata": {
    "ExecuteTime": {
     "end_time": "2021-04-29T14:05:47.626200Z",
     "start_time": "2021-04-29T14:05:30.561150Z"
    }
   },
   "outputs": [],
   "source": [
    "#- Load Events Data\n",
    "events_df = pd.read_csv(\"events_data.csv\")"
   ]
  },
  {
   "cell_type": "code",
   "execution_count": 5,
   "metadata": {
    "ExecuteTime": {
     "end_time": "2021-04-29T14:05:47.972177Z",
     "start_time": "2021-04-29T14:05:47.956188Z"
    }
   },
   "outputs": [
    {
     "name": "stdout",
     "output_type": "stream",
     "text": [
      "gender_age_train_df shape =  (74645, 4)\n",
      "phone_brand_device_model_df shape =  (87726, 3)\n",
      "events_df shape =  (3252950, 7)\n"
     ]
    }
   ],
   "source": [
    "print(\"gender_age_train_df shape = \",gender_age_train_df.shape)\n",
    "print(\"phone_brand_device_model_df shape = \",phone_brand_device_model_df.shape)\n",
    "print(\"events_df shape = \",events_df.shape)"
   ]
  },
  {
   "cell_type": "code",
   "execution_count": 6,
   "metadata": {
    "ExecuteTime": {
     "end_time": "2021-04-29T14:05:48.288669Z",
     "start_time": "2021-04-29T14:05:48.267538Z"
    }
   },
   "outputs": [
    {
     "name": "stdout",
     "output_type": "stream",
     "text": [
      "Index(['device_id', 'gender', 'age', 'group'], dtype='object')\n",
      "Index(['device_id', 'phone_brand', 'device_model'], dtype='object')\n",
      "Index(['event_id', 'device_id', 'timestamp', 'longitude', 'latitude', 'city',\n",
      "       'state'],\n",
      "      dtype='object')\n"
     ]
    }
   ],
   "source": [
    "print(gender_age_train_df.columns)\n",
    "print(phone_brand_device_model_df.columns)\n",
    "print(events_df.columns)"
   ]
  },
  {
   "cell_type": "code",
   "execution_count": 8,
   "metadata": {
    "ExecuteTime": {
     "end_time": "2021-04-29T14:06:45.281629Z",
     "start_time": "2021-04-29T14:06:44.769142Z"
    }
   },
   "outputs": [],
   "source": [
    "gender_age_train_df.to_csv(\"gender_age_train.csv\",index=False)\n",
    "phone_brand_device_model_df.to_csv(\"phone_brand_device_model.csv\",index=False)"
   ]
  },
  {
   "cell_type": "code",
   "execution_count": null,
   "metadata": {},
   "outputs": [],
   "source": []
  }
 ],
 "metadata": {
  "kernelspec": {
   "display_name": "Python 3",
   "language": "python",
   "name": "python3"
  },
  "language_info": {
   "codemirror_mode": {
    "name": "ipython",
    "version": 3
   },
   "file_extension": ".py",
   "mimetype": "text/x-python",
   "name": "python",
   "nbconvert_exporter": "python",
   "pygments_lexer": "ipython3",
   "version": "3.8.5"
  },
  "toc": {
   "base_numbering": 1,
   "nav_menu": {},
   "number_sections": true,
   "sideBar": true,
   "skip_h1_title": false,
   "title_cell": "Table of Contents",
   "title_sidebar": "Contents",
   "toc_cell": false,
   "toc_position": {},
   "toc_section_display": true,
   "toc_window_display": false
  },
  "varInspector": {
   "cols": {
    "lenName": 16,
    "lenType": 16,
    "lenVar": 40
   },
   "kernels_config": {
    "python": {
     "delete_cmd_postfix": "",
     "delete_cmd_prefix": "del ",
     "library": "var_list.py",
     "varRefreshCmd": "print(var_dic_list())"
    },
    "r": {
     "delete_cmd_postfix": ") ",
     "delete_cmd_prefix": "rm(",
     "library": "var_list.r",
     "varRefreshCmd": "cat(var_dic_list()) "
    }
   },
   "types_to_exclude": [
    "module",
    "function",
    "builtin_function_or_method",
    "instance",
    "_Feature"
   ],
   "window_display": false
  }
 },
 "nbformat": 4,
 "nbformat_minor": 4
}
