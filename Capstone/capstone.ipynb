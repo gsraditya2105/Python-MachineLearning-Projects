{
 "cells": [
  {
   "cell_type": "markdown",
   "metadata": {},
   "source": [
    "<h3>Project Description</h3>"
   ]
  },
  {
   "cell_type": "markdown",
   "metadata": {},
   "source": [
    "<b>InsaidTelecom</b>, one of the leading telecom players, understands that customizing offering is very important for its business to stay competitive.\n",
    "Currently, InsaidTelecom is seeking to leverage behavioral data from more than 60% of the 50 million mobile devices active daily in India to help its clients better understand and interact with their audiences"
   ]
  },
  {
   "cell_type": "markdown",
   "metadata": {},
   "source": [
    "<h3>Objective</h3>"
   ]
  },
  {
   "cell_type": "markdown",
   "metadata": {},
   "source": [
    "Build a dashboard to understand users demographic characteristics based on their mobile usage, geolocation, and mobile device properties."
   ]
  },
  {
   "cell_type": "markdown",
   "metadata": {},
   "source": [
    "<h3>Import Tools</h3>"
   ]
  },
  {
   "cell_type": "code",
   "execution_count": 1,
   "metadata": {
    "ExecuteTime": {
     "end_time": "2021-04-29T19:00:37.976641Z",
     "start_time": "2021-04-29T19:00:19.886071Z"
    }
   },
   "outputs": [],
   "source": [
    "import warnings\n",
    "warnings.filterwarnings(\"ignore\")\n",
    "\n",
    "import pandas as pd\n",
    "import numpy as np\n",
    "import matplotlib.pyplot as plt\n",
    "import seaborn as sns\n",
    "\n",
    "%matplotlib inline"
   ]
  },
  {
   "cell_type": "markdown",
   "metadata": {},
   "source": [
    "<h3>Load Data</h3>"
   ]
  },
  {
   "cell_type": "code",
   "execution_count": 15,
   "metadata": {
    "ExecuteTime": {
     "end_time": "2021-04-30T15:24:44.254718Z",
     "start_time": "2021-04-30T15:24:36.528961Z"
    }
   },
   "outputs": [
    {
     "data": {
      "application/javascript": [
       "\n",
       "        if (window._pyforest_update_imports_cell) { window._pyforest_update_imports_cell('import pandas as pd'); }\n",
       "    "
      ],
      "text/plain": [
       "<IPython.core.display.Javascript object>"
      ]
     },
     "metadata": {},
     "output_type": "display_data"
    },
    {
     "data": {
      "application/javascript": [
       "\n",
       "        if (window._pyforest_update_imports_cell) { window._pyforest_update_imports_cell('import pandas as pd'); }\n",
       "    "
      ],
      "text/plain": [
       "<IPython.core.display.Javascript object>"
      ]
     },
     "metadata": {},
     "output_type": "display_data"
    },
    {
     "data": {
      "application/javascript": [
       "\n",
       "        if (window._pyforest_update_imports_cell) { window._pyforest_update_imports_cell('import pandas as pd'); }\n",
       "    "
      ],
      "text/plain": [
       "<IPython.core.display.Javascript object>"
      ]
     },
     "metadata": {},
     "output_type": "display_data"
    }
   ],
   "source": [
    "gender_age_train_df = pd.read_csv(\"gender_age_train.csv\")\n",
    "phone_brand_device_model_df = pd.read_csv(\"phone_brand_device_model.csv\")\n",
    "events_df = pd.read_csv(\"events_data.csv\")"
   ]
  },
  {
   "cell_type": "markdown",
   "metadata": {},
   "source": [
    "<h4>GenderAgeTrain Data</h4>"
   ]
  },
  {
   "cell_type": "code",
   "execution_count": 7,
   "metadata": {
    "ExecuteTime": {
     "end_time": "2021-04-30T15:22:49.997383Z",
     "start_time": "2021-04-30T15:22:49.967462Z"
    }
   },
   "outputs": [
    {
     "data": {
      "text/html": [
       "<div>\n",
       "<style scoped>\n",
       "    .dataframe tbody tr th:only-of-type {\n",
       "        vertical-align: middle;\n",
       "    }\n",
       "\n",
       "    .dataframe tbody tr th {\n",
       "        vertical-align: top;\n",
       "    }\n",
       "\n",
       "    .dataframe thead th {\n",
       "        text-align: right;\n",
       "    }\n",
       "</style>\n",
       "<table border=\"1\" class=\"dataframe\">\n",
       "  <thead>\n",
       "    <tr style=\"text-align: right;\">\n",
       "      <th></th>\n",
       "      <th>device_id</th>\n",
       "      <th>gender</th>\n",
       "      <th>age</th>\n",
       "      <th>group</th>\n",
       "    </tr>\n",
       "  </thead>\n",
       "  <tbody>\n",
       "    <tr>\n",
       "      <th>0</th>\n",
       "      <td>-8076087639492063270</td>\n",
       "      <td>M</td>\n",
       "      <td>35</td>\n",
       "      <td>M32-38</td>\n",
       "    </tr>\n",
       "    <tr>\n",
       "      <th>1</th>\n",
       "      <td>-2897161552818060146</td>\n",
       "      <td>M</td>\n",
       "      <td>35</td>\n",
       "      <td>M32-38</td>\n",
       "    </tr>\n",
       "    <tr>\n",
       "      <th>2</th>\n",
       "      <td>-8260683887967679142</td>\n",
       "      <td>M</td>\n",
       "      <td>35</td>\n",
       "      <td>M32-38</td>\n",
       "    </tr>\n",
       "  </tbody>\n",
       "</table>\n",
       "</div>"
      ],
      "text/plain": [
       "             device_id gender  age   group\n",
       "0 -8076087639492063270      M   35  M32-38\n",
       "1 -2897161552818060146      M   35  M32-38\n",
       "2 -8260683887967679142      M   35  M32-38"
      ]
     },
     "execution_count": 7,
     "metadata": {},
     "output_type": "execute_result"
    }
   ],
   "source": [
    "gender_age_train_df.head(3)"
   ]
  },
  {
   "cell_type": "markdown",
   "metadata": {},
   "source": [
    "<h5>Data Description</h5>"
   ]
  },
  {
   "cell_type": "markdown",
   "metadata": {
    "ExecuteTime": {
     "end_time": "2021-04-29T14:34:28.428675Z",
     "start_time": "2021-04-29T14:34:28.405519Z"
    }
   },
   "source": [
    "| Column Name                    | Description                                                    |\n",
    "| -------------------------------|:--------------------------------------------------------------:| \n",
    "| device_id                      | device id of the user                                          | \n",
    "| gender                         | gender of the user                                             | \n",
    "| age                            | age of the user                                                | \n",
    "| group                          | age group of the user                                          | \n"
   ]
  },
  {
   "cell_type": "markdown",
   "metadata": {},
   "source": [
    "<h5> info()</h5>"
   ]
  },
  {
   "cell_type": "code",
   "execution_count": 4,
   "metadata": {
    "ExecuteTime": {
     "end_time": "2021-04-29T19:00:56.590309Z",
     "start_time": "2021-04-29T19:00:56.560041Z"
    }
   },
   "outputs": [
    {
     "name": "stdout",
     "output_type": "stream",
     "text": [
      "<class 'pandas.core.frame.DataFrame'>\n",
      "RangeIndex: 74645 entries, 0 to 74644\n",
      "Data columns (total 4 columns):\n",
      " #   Column     Non-Null Count  Dtype \n",
      "---  ------     --------------  ----- \n",
      " 0   device_id  74645 non-null  int64 \n",
      " 1   gender     74645 non-null  object\n",
      " 2   age        74645 non-null  int64 \n",
      " 3   group      74645 non-null  object\n",
      "dtypes: int64(2), object(2)\n",
      "memory usage: 2.3+ MB\n"
     ]
    }
   ],
   "source": [
    "gender_age_train_df.info()"
   ]
  },
  {
   "cell_type": "markdown",
   "metadata": {},
   "source": [
    "<b>Observations:</b>\n",
    "\n",
    "    1. No Missing Values"
   ]
  },
  {
   "cell_type": "markdown",
   "metadata": {},
   "source": [
    "<h5>describe()</h5>"
   ]
  },
  {
   "cell_type": "code",
   "execution_count": 5,
   "metadata": {
    "ExecuteTime": {
     "end_time": "2021-04-29T19:00:57.327024Z",
     "start_time": "2021-04-29T19:00:56.931977Z"
    }
   },
   "outputs": [
    {
     "data": {
      "text/html": [
       "<div>\n",
       "<style scoped>\n",
       "    .dataframe tbody tr th:only-of-type {\n",
       "        vertical-align: middle;\n",
       "    }\n",
       "\n",
       "    .dataframe tbody tr th {\n",
       "        vertical-align: top;\n",
       "    }\n",
       "\n",
       "    .dataframe thead th {\n",
       "        text-align: right;\n",
       "    }\n",
       "</style>\n",
       "<table border=\"1\" class=\"dataframe\">\n",
       "  <thead>\n",
       "    <tr style=\"text-align: right;\">\n",
       "      <th></th>\n",
       "      <th>device_id</th>\n",
       "      <th>gender</th>\n",
       "      <th>age</th>\n",
       "      <th>group</th>\n",
       "    </tr>\n",
       "  </thead>\n",
       "  <tbody>\n",
       "    <tr>\n",
       "      <th>count</th>\n",
       "      <td>7.464500e+04</td>\n",
       "      <td>74645</td>\n",
       "      <td>74645.000000</td>\n",
       "      <td>74645</td>\n",
       "    </tr>\n",
       "    <tr>\n",
       "      <th>unique</th>\n",
       "      <td>NaN</td>\n",
       "      <td>2</td>\n",
       "      <td>NaN</td>\n",
       "      <td>12</td>\n",
       "    </tr>\n",
       "    <tr>\n",
       "      <th>top</th>\n",
       "      <td>NaN</td>\n",
       "      <td>M</td>\n",
       "      <td>NaN</td>\n",
       "      <td>M23-26</td>\n",
       "    </tr>\n",
       "    <tr>\n",
       "      <th>freq</th>\n",
       "      <td>NaN</td>\n",
       "      <td>47904</td>\n",
       "      <td>NaN</td>\n",
       "      <td>9605</td>\n",
       "    </tr>\n",
       "    <tr>\n",
       "      <th>mean</th>\n",
       "      <td>-7.491354e+14</td>\n",
       "      <td>NaN</td>\n",
       "      <td>31.410342</td>\n",
       "      <td>NaN</td>\n",
       "    </tr>\n",
       "    <tr>\n",
       "      <th>std</th>\n",
       "      <td>5.327150e+18</td>\n",
       "      <td>NaN</td>\n",
       "      <td>9.868735</td>\n",
       "      <td>NaN</td>\n",
       "    </tr>\n",
       "    <tr>\n",
       "      <th>min</th>\n",
       "      <td>-9.223067e+18</td>\n",
       "      <td>NaN</td>\n",
       "      <td>1.000000</td>\n",
       "      <td>NaN</td>\n",
       "    </tr>\n",
       "    <tr>\n",
       "      <th>25%</th>\n",
       "      <td>-4.617367e+18</td>\n",
       "      <td>NaN</td>\n",
       "      <td>25.000000</td>\n",
       "      <td>NaN</td>\n",
       "    </tr>\n",
       "    <tr>\n",
       "      <th>50%</th>\n",
       "      <td>-1.841362e+16</td>\n",
       "      <td>NaN</td>\n",
       "      <td>29.000000</td>\n",
       "      <td>NaN</td>\n",
       "    </tr>\n",
       "    <tr>\n",
       "      <th>75%</th>\n",
       "      <td>4.636656e+18</td>\n",
       "      <td>NaN</td>\n",
       "      <td>36.000000</td>\n",
       "      <td>NaN</td>\n",
       "    </tr>\n",
       "    <tr>\n",
       "      <th>max</th>\n",
       "      <td>9.222849e+18</td>\n",
       "      <td>NaN</td>\n",
       "      <td>96.000000</td>\n",
       "      <td>NaN</td>\n",
       "    </tr>\n",
       "  </tbody>\n",
       "</table>\n",
       "</div>"
      ],
      "text/plain": [
       "           device_id gender           age   group\n",
       "count   7.464500e+04  74645  74645.000000   74645\n",
       "unique           NaN      2           NaN      12\n",
       "top              NaN      M           NaN  M23-26\n",
       "freq             NaN  47904           NaN    9605\n",
       "mean   -7.491354e+14    NaN     31.410342     NaN\n",
       "std     5.327150e+18    NaN      9.868735     NaN\n",
       "min    -9.223067e+18    NaN      1.000000     NaN\n",
       "25%    -4.617367e+18    NaN     25.000000     NaN\n",
       "50%    -1.841362e+16    NaN     29.000000     NaN\n",
       "75%     4.636656e+18    NaN     36.000000     NaN\n",
       "max     9.222849e+18    NaN     96.000000     NaN"
      ]
     },
     "execution_count": 5,
     "metadata": {},
     "output_type": "execute_result"
    }
   ],
   "source": [
    "gender_age_train_df.describe(include='all')"
   ]
  },
  {
   "cell_type": "markdown",
   "metadata": {},
   "source": [
    "<b>Observations:</b>\n",
    "    \n",
    "    1. Out of 74645 users - users with gender 'M' are 64.17%\n",
    "    2. users minimum age - 1 year, Average age - 32 years and maximum age - 96 years\n",
    "    3. Male users are more in the age group of 23-26 "
   ]
  },
  {
   "cell_type": "code",
   "execution_count": 6,
   "metadata": {
    "ExecuteTime": {
     "end_time": "2021-04-29T19:00:57.754006Z",
     "start_time": "2021-04-29T19:00:57.728200Z"
    }
   },
   "outputs": [
    {
     "data": {
      "text/plain": [
       "Index(['device_id', 'gender', 'age', 'group'], dtype='object')"
      ]
     },
     "execution_count": 6,
     "metadata": {},
     "output_type": "execute_result"
    }
   ],
   "source": [
    "gender_age_train_df.columns"
   ]
  },
  {
   "cell_type": "code",
   "execution_count": 7,
   "metadata": {
    "ExecuteTime": {
     "end_time": "2021-04-29T19:00:58.945269Z",
     "start_time": "2021-04-29T19:00:58.093095Z"
    }
   },
   "outputs": [
    {
     "data": {
      "text/plain": [
       "<matplotlib.axes._subplots.AxesSubplot at 0x19d0b4cb730>"
      ]
     },
     "execution_count": 7,
     "metadata": {},
     "output_type": "execute_result"
    },
    {
     "data": {
      "image/png": "[encoded data removed]",
      "text/plain": [
       "<Figure size 432x288 with 1 Axes>"
      ]
     },
     "metadata": {
      "needs_background": "light"
     },
     "output_type": "display_data"
    }
   ],
   "source": [
    "gender_age_train_df.gender.value_counts()\n",
    "gender_age_train_df.gender.value_counts().plot(kind='barh',color='orange')"
   ]
  },
  {
   "cell_type": "code",
   "execution_count": 8,
   "metadata": {
    "ExecuteTime": {
     "end_time": "2021-04-29T19:00:59.640349Z",
     "start_time": "2021-04-29T19:00:59.392639Z"
    }
   },
   "outputs": [
    {
     "data": {
      "text/plain": [
       "M23-26    9605\n",
       "M32-38    9476\n",
       "M39+      8581\n",
       "M22-      7488\n",
       "M29-31    7309\n",
       "F33-42    5561\n",
       "M27-28    5445\n",
       "F23-      5050\n",
       "F29-32    4628\n",
       "F43+      4194\n",
       "F24-26    4190\n",
       "F27-28    3118\n",
       "Name: group, dtype: int64"
      ]
     },
     "execution_count": 8,
     "metadata": {},
     "output_type": "execute_result"
    },
    {
     "data": {
      "image/png": "[encoded data removed]",
      "text/plain": [
       "<Figure size 432x288 with 1 Axes>"
      ]
     },
     "metadata": {
      "needs_background": "light"
     },
     "output_type": "display_data"
    }
   ],
   "source": [
    "gender_age_train_df.group.value_counts().plot(kind='bar')\n",
    "gender_age_train_df.group.value_counts()"
   ]
  },
  {
   "cell_type": "code",
   "execution_count": 9,
   "metadata": {
    "ExecuteTime": {
     "end_time": "2021-04-29T19:01:00.115867Z",
     "start_time": "2021-04-29T19:01:00.093748Z"
    }
   },
   "outputs": [
    {
     "data": {
      "text/plain": [
       "device_id    0\n",
       "gender       0\n",
       "age          0\n",
       "group        0\n",
       "dtype: int64"
      ]
     },
     "execution_count": 9,
     "metadata": {},
     "output_type": "execute_result"
    }
   ],
   "source": [
    "gender_age_train_df.isna().sum()  #- No Missing Values\n"
   ]
  },
  {
   "cell_type": "markdown",
   "metadata": {},
   "source": [
    "<h4>phone-brand-device-model Data</h4>"
   ]
  },
  {
   "cell_type": "code",
   "execution_count": 10,
   "metadata": {
    "ExecuteTime": {
     "end_time": "2021-04-29T19:01:00.465605Z",
     "start_time": "2021-04-29T19:01:00.441022Z"
    }
   },
   "outputs": [
    {
     "data": {
      "text/html": [
       "<div>\n",
       "<style scoped>\n",
       "    .dataframe tbody tr th:only-of-type {\n",
       "        vertical-align: middle;\n",
       "    }\n",
       "\n",
       "    .dataframe tbody tr th {\n",
       "        vertical-align: top;\n",
       "    }\n",
       "\n",
       "    .dataframe thead th {\n",
       "        text-align: right;\n",
       "    }\n",
       "</style>\n",
       "<table border=\"1\" class=\"dataframe\">\n",
       "  <thead>\n",
       "    <tr style=\"text-align: right;\">\n",
       "      <th></th>\n",
       "      <th>device_id</th>\n",
       "      <th>phone_brand</th>\n",
       "      <th>device_model</th>\n",
       "    </tr>\n",
       "  </thead>\n",
       "  <tbody>\n",
       "    <tr>\n",
       "      <th>0</th>\n",
       "      <td>1877775838486905855</td>\n",
       "      <td>vivo</td>\n",
       "      <td>Y13</td>\n",
       "    </tr>\n",
       "    <tr>\n",
       "      <th>1</th>\n",
       "      <td>-3766087376657242966</td>\n",
       "      <td>小米</td>\n",
       "      <td>V183</td>\n",
       "    </tr>\n",
       "    <tr>\n",
       "      <th>2</th>\n",
       "      <td>-6238937574958215831</td>\n",
       "      <td>OPPO</td>\n",
       "      <td>R7s</td>\n",
       "    </tr>\n",
       "  </tbody>\n",
       "</table>\n",
       "</div>"
      ],
      "text/plain": [
       "             device_id phone_brand device_model\n",
       "0  1877775838486905855        vivo          Y13\n",
       "1 -3766087376657242966          小米         V183\n",
       "2 -6238937574958215831        OPPO          R7s"
      ]
     },
     "execution_count": 10,
     "metadata": {},
     "output_type": "execute_result"
    }
   ],
   "source": [
    "phone_brand_device_model_df.head(3)"
   ]
  },
  {
   "cell_type": "markdown",
   "metadata": {},
   "source": [
    "<h5>Data Description</h5>"
   ]
  },
  {
   "cell_type": "markdown",
   "metadata": {},
   "source": [
    "| Column Name                    | Description                                                    |\n",
    "| -------------------------------|:--------------------------------------------------------------:| \n",
    "| device_id                      | device id of the user                                          | \n",
    "| phone_brand                    | phone brand of the user                                        | \n",
    "| device_model                   | device model of the user                                       | "
   ]
  },
  {
   "cell_type": "code",
   "execution_count": 11,
   "metadata": {
    "ExecuteTime": {
     "end_time": "2021-04-29T19:01:00.866869Z",
     "start_time": "2021-04-29T19:01:00.855796Z"
    }
   },
   "outputs": [],
   "source": [
    "#- Convert Phone_Brand to Brand English\n",
    "brand_dict = {\n",
    "    '华为':'Huawei','小米':'Xiaomi','三星':'Samsung','vivo':'vivo','OPPO':'OPPO','魅族':'Meizu',\n",
    "    '酷派':'Coolpad','乐视':'LeEco','联想 ':'Lenovo','HTC':'HTC'\n",
    "}    "
   ]
  },
  {
   "cell_type": "code",
   "execution_count": 12,
   "metadata": {
    "ExecuteTime": {
     "end_time": "2021-04-29T19:01:01.307155Z",
     "start_time": "2021-04-29T19:01:01.235251Z"
    }
   },
   "outputs": [],
   "source": [
    "phone_brand_device_model_df = phone_brand_device_model_df.replace({'phone_brand':brand_dict})"
   ]
  },
  {
   "cell_type": "markdown",
   "metadata": {},
   "source": [
    "<h5>info()</h5>"
   ]
  },
  {
   "cell_type": "code",
   "execution_count": 13,
   "metadata": {
    "ExecuteTime": {
     "end_time": "2021-04-29T19:01:01.740470Z",
     "start_time": "2021-04-29T19:01:01.697195Z"
    }
   },
   "outputs": [
    {
     "name": "stdout",
     "output_type": "stream",
     "text": [
      "<class 'pandas.core.frame.DataFrame'>\n",
      "RangeIndex: 87726 entries, 0 to 87725\n",
      "Data columns (total 3 columns):\n",
      " #   Column        Non-Null Count  Dtype \n",
      "---  ------        --------------  ----- \n",
      " 0   device_id     87726 non-null  int64 \n",
      " 1   phone_brand   87726 non-null  object\n",
      " 2   device_model  87726 non-null  object\n",
      "dtypes: int64(1), object(2)\n",
      "memory usage: 2.0+ MB\n"
     ]
    }
   ],
   "source": [
    "phone_brand_device_model_df.info()"
   ]
  },
  {
   "cell_type": "markdown",
   "metadata": {},
   "source": [
    "<b>Observations:</b>\n",
    "    \n",
    "    1. No Missing values"
   ]
  },
  {
   "cell_type": "markdown",
   "metadata": {},
   "source": [
    "<h5>describe()</h5>"
   ]
  },
  {
   "cell_type": "code",
   "execution_count": 14,
   "metadata": {
    "ExecuteTime": {
     "end_time": "2021-04-29T19:01:02.373793Z",
     "start_time": "2021-04-29T19:01:02.227893Z"
    }
   },
   "outputs": [
    {
     "data": {
      "text/html": [
       "<div>\n",
       "<style scoped>\n",
       "    .dataframe tbody tr th:only-of-type {\n",
       "        vertical-align: middle;\n",
       "    }\n",
       "\n",
       "    .dataframe tbody tr th {\n",
       "        vertical-align: top;\n",
       "    }\n",
       "\n",
       "    .dataframe thead th {\n",
       "        text-align: right;\n",
       "    }\n",
       "</style>\n",
       "<table border=\"1\" class=\"dataframe\">\n",
       "  <thead>\n",
       "    <tr style=\"text-align: right;\">\n",
       "      <th></th>\n",
       "      <th>device_id</th>\n",
       "      <th>phone_brand</th>\n",
       "      <th>device_model</th>\n",
       "    </tr>\n",
       "  </thead>\n",
       "  <tbody>\n",
       "    <tr>\n",
       "      <th>count</th>\n",
       "      <td>8.772600e+04</td>\n",
       "      <td>87726</td>\n",
       "      <td>87726</td>\n",
       "    </tr>\n",
       "    <tr>\n",
       "      <th>unique</th>\n",
       "      <td>NaN</td>\n",
       "      <td>116</td>\n",
       "      <td>1467</td>\n",
       "    </tr>\n",
       "    <tr>\n",
       "      <th>top</th>\n",
       "      <td>NaN</td>\n",
       "      <td>Xiaomi</td>\n",
       "      <td>红米note</td>\n",
       "    </tr>\n",
       "    <tr>\n",
       "      <th>freq</th>\n",
       "      <td>NaN</td>\n",
       "      <td>21645</td>\n",
       "      <td>3500</td>\n",
       "    </tr>\n",
       "    <tr>\n",
       "      <th>mean</th>\n",
       "      <td>-5.212557e+15</td>\n",
       "      <td>NaN</td>\n",
       "      <td>NaN</td>\n",
       "    </tr>\n",
       "    <tr>\n",
       "      <th>std</th>\n",
       "      <td>5.330157e+18</td>\n",
       "      <td>NaN</td>\n",
       "      <td>NaN</td>\n",
       "    </tr>\n",
       "    <tr>\n",
       "      <th>min</th>\n",
       "      <td>-9.223322e+18</td>\n",
       "      <td>NaN</td>\n",
       "      <td>NaN</td>\n",
       "    </tr>\n",
       "    <tr>\n",
       "      <th>25%</th>\n",
       "      <td>-4.623331e+18</td>\n",
       "      <td>NaN</td>\n",
       "      <td>NaN</td>\n",
       "    </tr>\n",
       "    <tr>\n",
       "      <th>50%</th>\n",
       "      <td>-3.109802e+16</td>\n",
       "      <td>NaN</td>\n",
       "      <td>NaN</td>\n",
       "    </tr>\n",
       "    <tr>\n",
       "      <th>75%</th>\n",
       "      <td>4.635194e+18</td>\n",
       "      <td>NaN</td>\n",
       "      <td>NaN</td>\n",
       "    </tr>\n",
       "    <tr>\n",
       "      <th>max</th>\n",
       "      <td>9.222849e+18</td>\n",
       "      <td>NaN</td>\n",
       "      <td>NaN</td>\n",
       "    </tr>\n",
       "  </tbody>\n",
       "</table>\n",
       "</div>"
      ],
      "text/plain": [
       "           device_id phone_brand device_model\n",
       "count   8.772600e+04       87726        87726\n",
       "unique           NaN         116         1467\n",
       "top              NaN      Xiaomi       红米note\n",
       "freq             NaN       21645         3500\n",
       "mean   -5.212557e+15         NaN          NaN\n",
       "std     5.330157e+18         NaN          NaN\n",
       "min    -9.223322e+18         NaN          NaN\n",
       "25%    -4.623331e+18         NaN          NaN\n",
       "50%    -3.109802e+16         NaN          NaN\n",
       "75%     4.635194e+18         NaN          NaN\n",
       "max     9.222849e+18         NaN          NaN"
      ]
     },
     "execution_count": 14,
     "metadata": {},
     "output_type": "execute_result"
    }
   ],
   "source": [
    "phone_brand_device_model_df.describe(include='all')"
   ]
  },
  {
   "cell_type": "markdown",
   "metadata": {},
   "source": [
    "<b>Observations:</b>\n",
    "    \n",
    "    1. 116 unique phone brands are used by the users in India\n",
    "    2. Top used phone brand = Xiaomi\n",
    "    3. most used model  - 红米note\n",
    "    4. 1467 unique device models "
   ]
  },
  {
   "cell_type": "code",
   "execution_count": 15,
   "metadata": {
    "ExecuteTime": {
     "end_time": "2021-04-29T19:01:02.775056Z",
     "start_time": "2021-04-29T19:01:02.753736Z"
    }
   },
   "outputs": [
    {
     "data": {
      "text/plain": [
       "device_id       0\n",
       "phone_brand     0\n",
       "device_model    0\n",
       "dtype: int64"
      ]
     },
     "execution_count": 15,
     "metadata": {},
     "output_type": "execute_result"
    }
   ],
   "source": [
    "phone_brand_device_model_df.isna().sum() #- No missing values"
   ]
  },
  {
   "cell_type": "code",
   "execution_count": 16,
   "metadata": {
    "ExecuteTime": {
     "end_time": "2021-04-29T19:01:03.481317Z",
     "start_time": "2021-04-29T19:01:03.219452Z"
    }
   },
   "outputs": [
    {
     "data": {
      "text/plain": [
       "红米note           3500\n",
       "MI 3             2739\n",
       "MI 2S            2547\n",
       "Galaxy Note 3    2378\n",
       "MI 4             2256\n",
       "Galaxy S4        1910\n",
       "Galaxy Note 2    1877\n",
       "荣耀6              1471\n",
       "荣耀畅玩4X           1279\n",
       "荣耀3C             1206\n",
       "Name: device_model, dtype: int64"
      ]
     },
     "execution_count": 16,
     "metadata": {},
     "output_type": "execute_result"
    },
    {
     "data": {
      "image/png": "[encoded data removed]",
      "text/plain": [
       "<Figure size 432x288 with 1 Axes>"
      ]
     },
     "metadata": {
      "needs_background": "light"
     },
     "output_type": "display_data"
    }
   ],
   "source": [
    "phone_brand_device_model_df.device_model.value_counts().head(10).plot(kind='bar',color='purple')\n",
    "phone_brand_device_model_df.device_model.value_counts().head(10)"
   ]
  },
  {
   "cell_type": "code",
   "execution_count": 17,
   "metadata": {
    "ExecuteTime": {
     "end_time": "2021-04-29T19:01:04.081332Z",
     "start_time": "2021-04-29T19:01:03.843832Z"
    }
   },
   "outputs": [
    {
     "data": {
      "text/plain": [
       "Xiaomi     21645\n",
       "Samsung    19211\n",
       "Huawei     15181\n",
       "vivo        7596\n",
       "OPPO        6717\n",
       "Meizu       5531\n",
       "Coolpad     3979\n",
       "HTC         1272\n",
       "Lenovo       982\n",
       "LeEco        841\n",
       "Name: phone_brand, dtype: int64"
      ]
     },
     "execution_count": 17,
     "metadata": {},
     "output_type": "execute_result"
    },
    {
     "data": {
      "image/png": "[encoded data removed]",
      "text/plain": [
       "<Figure size 432x288 with 1 Axes>"
      ]
     },
     "metadata": {
      "needs_background": "light"
     },
     "output_type": "display_data"
    }
   ],
   "source": [
    "phone_brand_device_model_df.phone_brand.value_counts().head(10).plot(kind='bar',color='violet')\n",
    "phone_brand_device_model_df.phone_brand.value_counts().head(10)"
   ]
  },
  {
   "cell_type": "markdown",
   "metadata": {},
   "source": [
    "<h4>Events Data</h4>"
   ]
  },
  {
   "cell_type": "code",
   "execution_count": 16,
   "metadata": {
    "ExecuteTime": {
     "end_time": "2021-04-30T15:25:00.183239Z",
     "start_time": "2021-04-30T15:25:00.153317Z"
    }
   },
   "outputs": [
    {
     "data": {
      "text/html": [
       "<div>\n",
       "<style scoped>\n",
       "    .dataframe tbody tr th:only-of-type {\n",
       "        vertical-align: middle;\n",
       "    }\n",
       "\n",
       "    .dataframe tbody tr th {\n",
       "        vertical-align: top;\n",
       "    }\n",
       "\n",
       "    .dataframe thead th {\n",
       "        text-align: right;\n",
       "    }\n",
       "</style>\n",
       "<table border=\"1\" class=\"dataframe\">\n",
       "  <thead>\n",
       "    <tr style=\"text-align: right;\">\n",
       "      <th></th>\n",
       "      <th>event_id</th>\n",
       "      <th>device_id</th>\n",
       "      <th>timestamp</th>\n",
       "      <th>longitude</th>\n",
       "      <th>latitude</th>\n",
       "      <th>city</th>\n",
       "      <th>state</th>\n",
       "    </tr>\n",
       "  </thead>\n",
       "  <tbody>\n",
       "    <tr>\n",
       "      <th>0</th>\n",
       "      <td>2765368</td>\n",
       "      <td>2.973348e+18</td>\n",
       "      <td>2016-05-07 22:52:05</td>\n",
       "      <td>77.225676</td>\n",
       "      <td>28.730140</td>\n",
       "      <td>Delhi</td>\n",
       "      <td>Delhi</td>\n",
       "    </tr>\n",
       "    <tr>\n",
       "      <th>1</th>\n",
       "      <td>2955066</td>\n",
       "      <td>4.734221e+18</td>\n",
       "      <td>2016-05-01 20:44:16</td>\n",
       "      <td>88.388361</td>\n",
       "      <td>22.660325</td>\n",
       "      <td>Calcutta</td>\n",
       "      <td>WestBengal</td>\n",
       "    </tr>\n",
       "    <tr>\n",
       "      <th>2</th>\n",
       "      <td>605968</td>\n",
       "      <td>-3.264500e+18</td>\n",
       "      <td>2016-05-02 14:23:04</td>\n",
       "      <td>77.256809</td>\n",
       "      <td>28.757906</td>\n",
       "      <td>Delhi</td>\n",
       "      <td>Delhi</td>\n",
       "    </tr>\n",
       "  </tbody>\n",
       "</table>\n",
       "</div>"
      ],
      "text/plain": [
       "   event_id     device_id            timestamp  longitude   latitude  \\\n",
       "0   2765368  2.973348e+18  2016-05-07 22:52:05  77.225676  28.730140   \n",
       "1   2955066  4.734221e+18  2016-05-01 20:44:16  88.388361  22.660325   \n",
       "2    605968 -3.264500e+18  2016-05-02 14:23:04  77.256809  28.757906   \n",
       "\n",
       "       city       state  \n",
       "0     Delhi       Delhi  \n",
       "1  Calcutta  WestBengal  \n",
       "2     Delhi       Delhi  "
      ]
     },
     "execution_count": 16,
     "metadata": {},
     "output_type": "execute_result"
    }
   ],
   "source": [
    "events_df.head(3)"
   ]
  },
  {
   "cell_type": "markdown",
   "metadata": {},
   "source": [
    "<h5>Data Description</h5>"
   ]
  },
  {
   "cell_type": "markdown",
   "metadata": {
    "ExecuteTime": {
     "end_time": "2021-04-29T17:11:40.750105Z",
     "start_time": "2021-04-29T17:11:40.727138Z"
    }
   },
   "source": [
    "| Column Name       | Description                                  |\n",
    "| ------------------|:--------------------------------------------:| \n",
    "| event_id          | user event_id                                | \n",
    "| device_id         | device id of the user                        | \n",
    "| timestamp         | when the user is using the mobile            | \n",
    "| longitude         | user mobile longitude                        | \n",
    "| latitude          | user mobile latitude                         | \n",
    "| city              | user city                                    | \n",
    "| state             | user state                                   | "
   ]
  },
  {
   "cell_type": "code",
   "execution_count": 13,
   "metadata": {
    "ExecuteTime": {
     "end_time": "2021-04-30T15:23:44.886927Z",
     "start_time": "2021-04-30T15:23:43.922173Z"
    }
   },
   "outputs": [],
   "source": [
    "events_df.state.fillna('',inplace=True)\n",
    "events_df.longitude.fillna('',inplace=True)\n",
    "events_df.latitude.fillna('',inplace=True)"
   ]
  },
  {
   "cell_type": "code",
   "execution_count": 17,
   "metadata": {
    "ExecuteTime": {
     "end_time": "2021-04-30T15:25:14.563072Z",
     "start_time": "2021-04-30T15:25:10.734447Z"
    }
   },
   "outputs": [
    {
     "data": {
      "application/javascript": [
       "\n",
       "        if (window._pyforest_update_imports_cell) { window._pyforest_update_imports_cell('import pandas as pd'); }\n",
       "    "
      ],
      "text/plain": [
       "<IPython.core.display.Javascript object>"
      ]
     },
     "metadata": {},
     "output_type": "display_data"
    }
   ],
   "source": [
    "#- convert timestamp to datetime type\n",
    "events_df['timestamp'] = pd.to_datetime(events_df.timestamp, format='%Y-%m-%d %H:%M:%S')"
   ]
  },
  {
   "cell_type": "code",
   "execution_count": 18,
   "metadata": {
    "ExecuteTime": {
     "end_time": "2021-04-30T15:25:14.861281Z",
     "start_time": "2021-04-30T15:25:14.737604Z"
    }
   },
   "outputs": [
    {
     "data": {
      "application/javascript": [
       "\n",
       "        if (window._pyforest_update_imports_cell) { window._pyforest_update_imports_cell('import pandas as pd'); }\n",
       "    "
      ],
      "text/plain": [
       "<IPython.core.display.Javascript object>"
      ]
     },
     "metadata": {},
     "output_type": "display_data"
    }
   ],
   "source": [
    "#- Convert device_id from exponential values to int type values to match data between dataframes\n",
    "events_df['device_id'] = events_df['device_id'].astype(pd.Int64Dtype())"
   ]
  },
  {
   "cell_type": "code",
   "execution_count": 19,
   "metadata": {
    "ExecuteTime": {
     "end_time": "2021-04-30T15:25:15.509765Z",
     "start_time": "2021-04-30T15:25:14.975966Z"
    }
   },
   "outputs": [
    {
     "data": {
      "text/plain": [
       "event_id       0\n",
       "device_id    453\n",
       "timestamp      0\n",
       "longitude    423\n",
       "latitude     423\n",
       "city           0\n",
       "state        377\n",
       "dtype: int64"
      ]
     },
     "execution_count": 19,
     "metadata": {},
     "output_type": "execute_result"
    }
   ],
   "source": [
    "#- check for missing values\n",
    "events_df.isna().sum()"
   ]
  },
  {
   "cell_type": "markdown",
   "metadata": {},
   "source": [
    "<b>Observations:</b>\n",
    "    \n",
    "    1. Missing values found in the columns - device_id, longitude, latitude and state"
   ]
  },
  {
   "cell_type": "markdown",
   "metadata": {
    "ExecuteTime": {
     "end_time": "2021-04-29T18:00:34.778393Z",
     "start_time": "2021-04-29T18:00:34.772414Z"
    }
   },
   "source": [
    "<h5>Fill Missing values</h5>"
   ]
  },
  {
   "cell_type": "markdown",
   "metadata": {},
   "source": [
    "<h6>state</h6>"
   ]
  },
  {
   "cell_type": "code",
   "execution_count": 20,
   "metadata": {
    "ExecuteTime": {
     "end_time": "2021-04-30T15:25:24.227822Z",
     "start_time": "2021-04-30T15:25:23.993472Z"
    },
    "scrolled": false
   },
   "outputs": [
    {
     "data": {
      "text/plain": [
       "array(['Pune', 'Visakhapatnam', 'Indore', 'Chennai', 'Delhi',\n",
       "       'Channapatna', 'Jaipur', 'Gangarampur', 'Arambagh'], dtype=object)"
      ]
     },
     "execution_count": 20,
     "metadata": {},
     "output_type": "execute_result"
    }
   ],
   "source": [
    "events_df[events_df.state.isna()].city.unique()"
   ]
  },
  {
   "cell_type": "code",
   "execution_count": 21,
   "metadata": {
    "ExecuteTime": {
     "end_time": "2021-04-30T15:26:10.028780Z",
     "start_time": "2021-04-30T15:26:10.018808Z"
    }
   },
   "outputs": [],
   "source": [
    "missing_state_city_dict = {\n",
    "    'Pune' : 'Maharashtra', 'Visakhapatnam' : 'AndhraPradesh', 'Indore' : 'MadhyaPradesh',\n",
    "    'Chennai' : 'TamilNadu', 'Delhi' : 'Delhi', 'Channapatna' : 'Karnataka',\n",
    "    'Jaipur' : 'Rajasthan', 'Gangarampur' : 'WestBengal', 'Arambagh' : 'WestBengal'\n",
    "}"
   ]
  },
  {
   "cell_type": "code",
   "execution_count": 88,
   "metadata": {
    "ExecuteTime": {
     "end_time": "2021-04-29T19:45:14.178957Z",
     "start_time": "2021-04-29T19:45:13.935328Z"
    }
   },
   "outputs": [],
   "source": [
    "events_df.state.fillna('',inplace=True)"
   ]
  },
  {
   "cell_type": "code",
   "execution_count": 89,
   "metadata": {
    "ExecuteTime": {
     "end_time": "2021-04-29T19:45:15.987000Z",
     "start_time": "2021-04-29T19:45:14.897555Z"
    }
   },
   "outputs": [
    {
     "name": "stdout",
     "output_type": "stream",
     "text": [
      "events_df_state_not_null rows =  3252573\n",
      "events_df_state_null rows =  377\n"
     ]
    }
   ],
   "source": [
    "#- Extracting misisng state rows into a seperate dataframe and fill missing values \n",
    "#- if apply method executed on events_df (32L records) takes more time \n",
    "events_df_state_not_null = events_df[events_df.state != \"\"]\n",
    "events_df_state_null = events_df[events_df.state == \"\"]\n",
    "print(\"events_df_state_not_null rows = \",events_df_state_not_null.shape[0])\n",
    "print(\"events_df_state_null rows = \",events_df_state_null.shape[0])"
   ]
  },
  {
   "cell_type": "code",
   "execution_count": 90,
   "metadata": {
    "ExecuteTime": {
     "end_time": "2021-04-29T19:45:17.004220Z",
     "start_time": "2021-04-29T19:45:16.998130Z"
    }
   },
   "outputs": [],
   "source": [
    "def replace_missing_state(row):\n",
    "    if row.state == \"\":\n",
    "        return (missing_state_city_dict[row.city])\n",
    "    else:\n",
    "        return row.state"
   ]
  },
  {
   "cell_type": "code",
   "execution_count": 91,
   "metadata": {
    "ExecuteTime": {
     "end_time": "2021-04-29T19:45:18.273981Z",
     "start_time": "2021-04-29T19:45:18.241407Z"
    }
   },
   "outputs": [],
   "source": [
    "events_df_state_null['state'] = events_df_state_null[['state','city']].apply(replace_missing_state,axis=1)"
   ]
  },
  {
   "cell_type": "code",
   "execution_count": 92,
   "metadata": {
    "ExecuteTime": {
     "end_time": "2021-04-29T19:45:19.953794Z",
     "start_time": "2021-04-29T19:45:19.697462Z"
    }
   },
   "outputs": [
    {
     "data": {
      "text/plain": [
       "(3252950, 7)"
      ]
     },
     "execution_count": 92,
     "metadata": {},
     "output_type": "execute_result"
    }
   ],
   "source": [
    "#- concatnate dataframes\n",
    "events_df = events_df_state_not_null.append(events_df_state_null)\n",
    "events_df.shape"
   ]
  },
  {
   "cell_type": "markdown",
   "metadata": {},
   "source": [
    "<h6>Longitude and Latitude</h6>"
   ]
  },
  {
   "cell_type": "code",
   "execution_count": 93,
   "metadata": {
    "ExecuteTime": {
     "end_time": "2021-04-29T19:46:53.342251Z",
     "start_time": "2021-04-29T19:46:52.518691Z"
    },
    "scrolled": true
   },
   "outputs": [
    {
     "name": "stdout",
     "output_type": "stream",
     "text": [
      "long_missing rows =  423\n",
      "long_present rows =  3252527\n"
     ]
    }
   ],
   "source": [
    "#- correlate the timestamp to know the realistic event happend \n",
    "#- check if the device id has mpping to multiple cities \n",
    "#- if not merge \n",
    "#- else \n",
    "#-   find the realistic mapping \n",
    "#- closest timestamp should be applied \n",
    "long_missing = events_df[events_df.longitude == \"\"]\n",
    "long_present = events_df[events_df.longitude != \"\"]\n",
    "print(\"long_missing rows = \",long_missing.shape[0])\n",
    "print(\"long_present rows = \",long_present.shape[0])"
   ]
  },
  {
   "cell_type": "code",
   "execution_count": 117,
   "metadata": {
    "ExecuteTime": {
     "end_time": "2021-04-29T20:15:39.298065Z",
     "start_time": "2021-04-29T20:15:39.182010Z"
    }
   },
   "outputs": [],
   "source": [
    "d1 = long_present[['device_id','longitude','latitude']]"
   ]
  },
  {
   "cell_type": "code",
   "execution_count": 129,
   "metadata": {
    "ExecuteTime": {
     "end_time": "2021-04-29T20:30:14.106134Z",
     "start_time": "2021-04-29T20:30:11.421115Z"
    }
   },
   "outputs": [],
   "source": [
    "merge_d1 = long_missing.merge(d1,left_on='device_id',right_on='device_id',how='left')\n",
    "merge_d1.drop_duplicates(inplace=True)\n",
    "merge_d1.drop(['longitude_x','latitude_x'],axis=1,inplace=True)\n",
    "merge_d1.rename(columns={\"longitude_y\": \"longitude\", \"latitude_y\": \"latitude\"},inplace=True)\n",
    "long_missing = merge_d1[['event_id','device_id','timestamp','longitude','latitude','city','state']]"
   ]
  },
  {
   "cell_type": "code",
   "execution_count": 131,
   "metadata": {
    "ExecuteTime": {
     "end_time": "2021-04-29T20:31:09.237708Z",
     "start_time": "2021-04-29T20:31:09.063264Z"
    }
   },
   "outputs": [
    {
     "data": {
      "text/plain": [
       "(3252950, 7)"
      ]
     },
     "execution_count": 131,
     "metadata": {},
     "output_type": "execute_result"
    }
   ],
   "source": [
    "#- concatnate dataframes\n",
    "events_df = long_present.append(long_missing)\n",
    "events_df.shape"
   ]
  },
  {
   "cell_type": "markdown",
   "metadata": {},
   "source": [
    "<h6>Device Id</h6>"
   ]
  },
  {
   "cell_type": "code",
   "execution_count": 138,
   "metadata": {
    "ExecuteTime": {
     "end_time": "2021-04-29T20:35:58.314648Z",
     "start_time": "2021-04-29T20:35:57.971300Z"
    }
   },
   "outputs": [
    {
     "name": "stdout",
     "output_type": "stream",
     "text": [
      "device_id_present rows =  3252497\n",
      "device_id_missing rows =  453\n"
     ]
    }
   ],
   "source": [
    "device_id_present = events_df[events_df.device_id.notna()]\n",
    "device_id_missing = events_df[events_df.device_id.isna()]\n",
    "print(\"device_id_present rows = \",device_id_present.shape[0])\n",
    "print(\"device_id_missing rows = \",device_id_missing.shape[0])"
   ]
  },
  {
   "cell_type": "code",
   "execution_count": 144,
   "metadata": {
    "ExecuteTime": {
     "end_time": "2021-04-29T20:43:17.070188Z",
     "start_time": "2021-04-29T20:43:16.935586Z"
    }
   },
   "outputs": [],
   "source": [
    "d2 = device_id_present[['device_id','longitude','latitude']]"
   ]
  },
  {
   "cell_type": "code",
   "execution_count": 146,
   "metadata": {
    "ExecuteTime": {
     "end_time": "2021-04-29T20:44:59.467278Z",
     "start_time": "2021-04-29T20:44:53.663809Z"
    }
   },
   "outputs": [],
   "source": [
    "merge_d2 = device_id_missing.merge(d2,left_on=['longitude','latitude'],right_on=['longitude','latitude'],how='left')\n",
    "merge_d2.drop_duplicates(inplace=True)\n",
    "merge_d2.drop('device_id_x',axis=1,inplace=True)\n",
    "merge_d2.rename(columns={\"device_id_y\": \"device_id\"},inplace=True)\n",
    "device_id_missing = merge_d2[['event_id','device_id','timestamp','longitude','latitude','city','state']]"
   ]
  },
  {
   "cell_type": "code",
   "execution_count": 147,
   "metadata": {
    "ExecuteTime": {
     "end_time": "2021-04-29T20:45:25.518298Z",
     "start_time": "2021-04-29T20:45:25.496359Z"
    }
   },
   "outputs": [
    {
     "data": {
      "text/plain": [
       "0"
      ]
     },
     "execution_count": 147,
     "metadata": {},
     "output_type": "execute_result"
    }
   ],
   "source": [
    "device_id_missing.device_id.isna().sum()"
   ]
  },
  {
   "cell_type": "code",
   "execution_count": 148,
   "metadata": {
    "ExecuteTime": {
     "end_time": "2021-04-29T20:46:13.749582Z",
     "start_time": "2021-04-29T20:46:13.505699Z"
    }
   },
   "outputs": [
    {
     "data": {
      "text/plain": [
       "(3252950, 7)"
      ]
     },
     "execution_count": 148,
     "metadata": {},
     "output_type": "execute_result"
    }
   ],
   "source": [
    "#- concatnate dataframes\n",
    "events_df = device_id_present.append(device_id_missing)\n",
    "events_df.shape"
   ]
  },
  {
   "cell_type": "markdown",
   "metadata": {},
   "source": [
    "<h5>info()</h5>"
   ]
  },
  {
   "cell_type": "code",
   "execution_count": 151,
   "metadata": {
    "ExecuteTime": {
     "end_time": "2021-04-29T20:47:27.267318Z",
     "start_time": "2021-04-29T20:47:27.241391Z"
    }
   },
   "outputs": [
    {
     "name": "stdout",
     "output_type": "stream",
     "text": [
      "<class 'pandas.core.frame.DataFrame'>\n",
      "Int64Index: 3252950 entries, 0 to 693861\n",
      "Data columns (total 7 columns):\n",
      " #   Column     Dtype         \n",
      "---  ------     -----         \n",
      " 0   event_id   int64         \n",
      " 1   device_id  Int64         \n",
      " 2   timestamp  datetime64[ns]\n",
      " 3   longitude  object        \n",
      " 4   latitude   object        \n",
      " 5   city       object        \n",
      " 6   state      object        \n",
      "dtypes: Int64(1), datetime64[ns](1), int64(1), object(4)\n",
      "memory usage: 201.6+ MB\n"
     ]
    }
   ],
   "source": [
    "events_df.info()"
   ]
  },
  {
   "cell_type": "markdown",
   "metadata": {},
   "source": [
    "<h5>describe()</h5>"
   ]
  },
  {
   "cell_type": "code",
   "execution_count": 152,
   "metadata": {
    "ExecuteTime": {
     "end_time": "2021-04-29T20:47:42.903345Z",
     "start_time": "2021-04-29T20:47:29.386770Z"
    }
   },
   "outputs": [
    {
     "data": {
      "text/html": [
       "<div>\n",
       "<style scoped>\n",
       "    .dataframe tbody tr th:only-of-type {\n",
       "        vertical-align: middle;\n",
       "    }\n",
       "\n",
       "    .dataframe tbody tr th {\n",
       "        vertical-align: top;\n",
       "    }\n",
       "\n",
       "    .dataframe thead th {\n",
       "        text-align: right;\n",
       "    }\n",
       "</style>\n",
       "<table border=\"1\" class=\"dataframe\">\n",
       "  <thead>\n",
       "    <tr style=\"text-align: right;\">\n",
       "      <th></th>\n",
       "      <th>event_id</th>\n",
       "      <th>device_id</th>\n",
       "      <th>timestamp</th>\n",
       "      <th>longitude</th>\n",
       "      <th>latitude</th>\n",
       "      <th>city</th>\n",
       "      <th>state</th>\n",
       "    </tr>\n",
       "  </thead>\n",
       "  <tbody>\n",
       "    <tr>\n",
       "      <th>count</th>\n",
       "      <td>3.252950e+06</td>\n",
       "      <td>3.252950e+06</td>\n",
       "      <td>3252950</td>\n",
       "      <td>3.252950e+06</td>\n",
       "      <td>3.252950e+06</td>\n",
       "      <td>3252950</td>\n",
       "      <td>3252950</td>\n",
       "    </tr>\n",
       "    <tr>\n",
       "      <th>unique</th>\n",
       "      <td>NaN</td>\n",
       "      <td>NaN</td>\n",
       "      <td>588126</td>\n",
       "      <td>6.009500e+04</td>\n",
       "      <td>6.018500e+04</td>\n",
       "      <td>933</td>\n",
       "      <td>32</td>\n",
       "    </tr>\n",
       "    <tr>\n",
       "      <th>top</th>\n",
       "      <td>NaN</td>\n",
       "      <td>NaN</td>\n",
       "      <td>2016-05-03 10:00:03</td>\n",
       "      <td>8.035980e+01</td>\n",
       "      <td>1.312817e+01</td>\n",
       "      <td>Delhi</td>\n",
       "      <td>Delhi</td>\n",
       "    </tr>\n",
       "    <tr>\n",
       "      <th>freq</th>\n",
       "      <td>NaN</td>\n",
       "      <td>NaN</td>\n",
       "      <td>43</td>\n",
       "      <td>3.342600e+04</td>\n",
       "      <td>3.342600e+04</td>\n",
       "      <td>744276</td>\n",
       "      <td>751797</td>\n",
       "    </tr>\n",
       "    <tr>\n",
       "      <th>first</th>\n",
       "      <td>NaN</td>\n",
       "      <td>NaN</td>\n",
       "      <td>2016-04-30 23:52:24</td>\n",
       "      <td>NaN</td>\n",
       "      <td>NaN</td>\n",
       "      <td>NaN</td>\n",
       "      <td>NaN</td>\n",
       "    </tr>\n",
       "    <tr>\n",
       "      <th>last</th>\n",
       "      <td>NaN</td>\n",
       "      <td>NaN</td>\n",
       "      <td>2016-05-08 00:00:08</td>\n",
       "      <td>NaN</td>\n",
       "      <td>NaN</td>\n",
       "      <td>NaN</td>\n",
       "      <td>NaN</td>\n",
       "    </tr>\n",
       "    <tr>\n",
       "      <th>mean</th>\n",
       "      <td>1.626476e+06</td>\n",
       "      <td>1.015168e+17</td>\n",
       "      <td>NaN</td>\n",
       "      <td>NaN</td>\n",
       "      <td>NaN</td>\n",
       "      <td>NaN</td>\n",
       "      <td>NaN</td>\n",
       "    </tr>\n",
       "    <tr>\n",
       "      <th>std</th>\n",
       "      <td>9.390459e+05</td>\n",
       "      <td>5.316845e+18</td>\n",
       "      <td>NaN</td>\n",
       "      <td>NaN</td>\n",
       "      <td>NaN</td>\n",
       "      <td>NaN</td>\n",
       "      <td>NaN</td>\n",
       "    </tr>\n",
       "    <tr>\n",
       "      <th>min</th>\n",
       "      <td>1.000000e+00</td>\n",
       "      <td>-9.222957e+18</td>\n",
       "      <td>NaN</td>\n",
       "      <td>NaN</td>\n",
       "      <td>NaN</td>\n",
       "      <td>NaN</td>\n",
       "      <td>NaN</td>\n",
       "    </tr>\n",
       "    <tr>\n",
       "      <th>25%</th>\n",
       "      <td>8.132382e+05</td>\n",
       "      <td>-4.540611e+18</td>\n",
       "      <td>NaN</td>\n",
       "      <td>NaN</td>\n",
       "      <td>NaN</td>\n",
       "      <td>NaN</td>\n",
       "      <td>NaN</td>\n",
       "    </tr>\n",
       "    <tr>\n",
       "      <th>50%</th>\n",
       "      <td>1.626476e+06</td>\n",
       "      <td>1.741817e+17</td>\n",
       "      <td>NaN</td>\n",
       "      <td>NaN</td>\n",
       "      <td>NaN</td>\n",
       "      <td>NaN</td>\n",
       "      <td>NaN</td>\n",
       "    </tr>\n",
       "    <tr>\n",
       "      <th>75%</th>\n",
       "      <td>2.439713e+06</td>\n",
       "      <td>4.862224e+18</td>\n",
       "      <td>NaN</td>\n",
       "      <td>NaN</td>\n",
       "      <td>NaN</td>\n",
       "      <td>NaN</td>\n",
       "      <td>NaN</td>\n",
       "    </tr>\n",
       "    <tr>\n",
       "      <th>max</th>\n",
       "      <td>3.252950e+06</td>\n",
       "      <td>9.222849e+18</td>\n",
       "      <td>NaN</td>\n",
       "      <td>NaN</td>\n",
       "      <td>NaN</td>\n",
       "      <td>NaN</td>\n",
       "      <td>NaN</td>\n",
       "    </tr>\n",
       "  </tbody>\n",
       "</table>\n",
       "</div>"
      ],
      "text/plain": [
       "            event_id     device_id            timestamp     longitude  \\\n",
       "count   3.252950e+06  3.252950e+06              3252950  3.252950e+06   \n",
       "unique           NaN           NaN               588126  6.009500e+04   \n",
       "top              NaN           NaN  2016-05-03 10:00:03  8.035980e+01   \n",
       "freq             NaN           NaN                   43  3.342600e+04   \n",
       "first            NaN           NaN  2016-04-30 23:52:24           NaN   \n",
       "last             NaN           NaN  2016-05-08 00:00:08           NaN   \n",
       "mean    1.626476e+06  1.015168e+17                  NaN           NaN   \n",
       "std     9.390459e+05  5.316845e+18                  NaN           NaN   \n",
       "min     1.000000e+00 -9.222957e+18                  NaN           NaN   \n",
       "25%     8.132382e+05 -4.540611e+18                  NaN           NaN   \n",
       "50%     1.626476e+06  1.741817e+17                  NaN           NaN   \n",
       "75%     2.439713e+06  4.862224e+18                  NaN           NaN   \n",
       "max     3.252950e+06  9.222849e+18                  NaN           NaN   \n",
       "\n",
       "            latitude     city    state  \n",
       "count   3.252950e+06  3252950  3252950  \n",
       "unique  6.018500e+04      933       32  \n",
       "top     1.312817e+01    Delhi    Delhi  \n",
       "freq    3.342600e+04   744276   751797  \n",
       "first            NaN      NaN      NaN  \n",
       "last             NaN      NaN      NaN  \n",
       "mean             NaN      NaN      NaN  \n",
       "std              NaN      NaN      NaN  \n",
       "min              NaN      NaN      NaN  \n",
       "25%              NaN      NaN      NaN  \n",
       "50%              NaN      NaN      NaN  \n",
       "75%              NaN      NaN      NaN  \n",
       "max              NaN      NaN      NaN  "
      ]
     },
     "execution_count": 152,
     "metadata": {},
     "output_type": "execute_result"
    }
   ],
   "source": [
    "events_df.describe(include='all')"
   ]
  },
  {
   "cell_type": "markdown",
   "metadata": {},
   "source": [
    "<b>Observations:</b>\n",
    "    \n",
    "    1. more number of events(43) seen on 2016-05-03 10:00:03\n",
    "    2. more number of events are from Delhi out of 32 unique states and 933 unique cities"
   ]
  },
  {
   "cell_type": "code",
   "execution_count": 153,
   "metadata": {
    "ExecuteTime": {
     "end_time": "2021-04-29T20:48:46.191921Z",
     "start_time": "2021-04-29T20:48:44.924972Z"
    }
   },
   "outputs": [
    {
     "data": {
      "text/plain": [
       "Delhi            744276\n",
       "Chennai          366875\n",
       "Pune             317276\n",
       "Mumbai           285246\n",
       "Visakhapatnam    235772\n",
       "Indore           189804\n",
       "Jaipur           157046\n",
       "Calcutta         122381\n",
       "Bangalore         49939\n",
       "Hyderabad         13549\n",
       "Name: city, dtype: int64"
      ]
     },
     "execution_count": 153,
     "metadata": {},
     "output_type": "execute_result"
    },
    {
     "data": {
      "image/png": "[encoded data removed]",
      "text/plain": [
       "<Figure size 432x288 with 1 Axes>"
      ]
     },
     "metadata": {
      "needs_background": "light"
     },
     "output_type": "display_data"
    }
   ],
   "source": [
    "events_df.city.value_counts().head(10).plot(kind='bar',color='green')\n",
    "events_df.city.value_counts().head(10)"
   ]
  },
  {
   "cell_type": "code",
   "execution_count": 154,
   "metadata": {
    "ExecuteTime": {
     "end_time": "2021-04-29T20:48:51.929780Z",
     "start_time": "2021-04-29T20:48:50.474711Z"
    }
   },
   "outputs": [
    {
     "data": {
      "text/plain": [
       "Delhi                       751797\n",
       "Maharashtra                 677168\n",
       "TamilNadu                   436329\n",
       "AndhraPradesh               321379\n",
       "MadhyaPradesh               232741\n",
       "Rajasthan                   196410\n",
       "WestBengal                  196203\n",
       "Karnataka                    99072\n",
       "UttarPradesh                 94750\n",
       "Gujarat                      42881\n",
       "Bihar                        35472\n",
       "Punjab                       26195\n",
       "Kerala                       23148\n",
       "Haryana                      21053\n",
       "Jharkhand                    18060\n",
       "Orissa                       15904\n",
       "Telangana                    12784\n",
       "Assam                        12021\n",
       "Chhattisgarh                  9754\n",
       "Uttaranchal                   7720\n",
       "JammuandKashmir               5385\n",
       "Goa                           3250\n",
       "Nagaland                      2298\n",
       "Pondicherry                   1741\n",
       "Mizoram                       1613\n",
       "AndamanandNicobarIslands      1515\n",
       "Meghalaya                     1515\n",
       "HimachalPradesh               1409\n",
       "Manipur                        989\n",
       "Chandigarh                     894\n",
       "Tripura                        892\n",
       "ArunachalPradesh               608\n",
       "Name: state, dtype: int64"
      ]
     },
     "execution_count": 154,
     "metadata": {},
     "output_type": "execute_result"
    },
    {
     "data": {
      "image/png": "[encoded data removed]",
      "text/plain": [
       "<Figure size 864x720 with 1 Axes>"
      ]
     },
     "metadata": {
      "needs_background": "light"
     },
     "output_type": "display_data"
    }
   ],
   "source": [
    "plt.figure(figsize=(12,10))\n",
    "events_df.state.value_counts().plot(kind='bar',color='red')\n",
    "events_df.state.value_counts()"
   ]
  },
  {
   "cell_type": "markdown",
   "metadata": {},
   "source": [
    "<h3>Analysis on Delhi State</h3>"
   ]
  },
  {
   "cell_type": "code",
   "execution_count": 164,
   "metadata": {
    "ExecuteTime": {
     "end_time": "2021-04-29T20:57:29.898931Z",
     "start_time": "2021-04-29T20:57:29.414554Z"
    }
   },
   "outputs": [
    {
     "name": "stdout",
     "output_type": "stream",
     "text": [
      "delhi_events_df rows =  751797\n"
     ]
    }
   ],
   "source": [
    "#- data frames gender_age_train_df, phone_brand_device_model_df, events_df\n",
    "#- Get Delphi users info \n",
    "delhi_events_df = events_df[events_df.state == \"Delhi\"]\n",
    "print(\"delhi_events_df rows = \",delhi_events_df.shape[0])"
   ]
  },
  {
   "cell_type": "code",
   "execution_count": 165,
   "metadata": {
    "ExecuteTime": {
     "end_time": "2021-04-29T20:57:31.683913Z",
     "start_time": "2021-04-29T20:57:31.673944Z"
    }
   },
   "outputs": [
    {
     "name": "stdout",
     "output_type": "stream",
     "text": [
      "(74645, 4)\n",
      "(87726, 3)\n"
     ]
    }
   ],
   "source": [
    "#- merge gender_age_train_df and phone_brand_device_model_df\n",
    "print(gender_age_train_df.shape)\n",
    "print(phone_brand_device_model_df.shape)"
   ]
  },
  {
   "cell_type": "code",
   "execution_count": 185,
   "metadata": {
    "ExecuteTime": {
     "end_time": "2021-04-29T21:04:31.801425Z",
     "start_time": "2021-04-29T21:04:31.714691Z"
    }
   },
   "outputs": [],
   "source": [
    "level1 = phone_brand_device_model_df.merge(gender_age_train_df,left_on='device_id',right_on='device_id',how='left')"
   ]
  },
  {
   "cell_type": "code",
   "execution_count": 186,
   "metadata": {
    "ExecuteTime": {
     "end_time": "2021-04-29T21:04:39.670949Z",
     "start_time": "2021-04-29T21:04:39.647015Z"
    }
   },
   "outputs": [
    {
     "data": {
      "text/html": [
       "<div>\n",
       "<style scoped>\n",
       "    .dataframe tbody tr th:only-of-type {\n",
       "        vertical-align: middle;\n",
       "    }\n",
       "\n",
       "    .dataframe tbody tr th {\n",
       "        vertical-align: top;\n",
       "    }\n",
       "\n",
       "    .dataframe thead th {\n",
       "        text-align: right;\n",
       "    }\n",
       "</style>\n",
       "<table border=\"1\" class=\"dataframe\">\n",
       "  <thead>\n",
       "    <tr style=\"text-align: right;\">\n",
       "      <th></th>\n",
       "      <th>device_id</th>\n",
       "      <th>phone_brand</th>\n",
       "      <th>device_model</th>\n",
       "      <th>gender</th>\n",
       "      <th>age</th>\n",
       "      <th>group</th>\n",
       "    </tr>\n",
       "  </thead>\n",
       "  <tbody>\n",
       "    <tr>\n",
       "      <th>0</th>\n",
       "      <td>1877775838486905855</td>\n",
       "      <td>vivo</td>\n",
       "      <td>Y13</td>\n",
       "      <td>NaN</td>\n",
       "      <td>NaN</td>\n",
       "      <td>NaN</td>\n",
       "    </tr>\n",
       "    <tr>\n",
       "      <th>1</th>\n",
       "      <td>-3766087376657242966</td>\n",
       "      <td>小米</td>\n",
       "      <td>V183</td>\n",
       "      <td>NaN</td>\n",
       "      <td>NaN</td>\n",
       "      <td>NaN</td>\n",
       "    </tr>\n",
       "    <tr>\n",
       "      <th>2</th>\n",
       "      <td>-6238937574958215831</td>\n",
       "      <td>OPPO</td>\n",
       "      <td>R7s</td>\n",
       "      <td>NaN</td>\n",
       "      <td>NaN</td>\n",
       "      <td>NaN</td>\n",
       "    </tr>\n",
       "    <tr>\n",
       "      <th>3</th>\n",
       "      <td>8973197758510677470</td>\n",
       "      <td>三星</td>\n",
       "      <td>A368t</td>\n",
       "      <td>NaN</td>\n",
       "      <td>NaN</td>\n",
       "      <td>NaN</td>\n",
       "    </tr>\n",
       "    <tr>\n",
       "      <th>4</th>\n",
       "      <td>-2015528097870762664</td>\n",
       "      <td>小米</td>\n",
       "      <td>红米Note2</td>\n",
       "      <td>NaN</td>\n",
       "      <td>NaN</td>\n",
       "      <td>NaN</td>\n",
       "    </tr>\n",
       "  </tbody>\n",
       "</table>\n",
       "</div>"
      ],
      "text/plain": [
       "             device_id phone_brand device_model gender  age group\n",
       "0  1877775838486905855        vivo          Y13    NaN  NaN   NaN\n",
       "1 -3766087376657242966          小米         V183    NaN  NaN   NaN\n",
       "2 -6238937574958215831        OPPO          R7s    NaN  NaN   NaN\n",
       "3  8973197758510677470          三星        A368t    NaN  NaN   NaN\n",
       "4 -2015528097870762664          小米      红米Note2    NaN  NaN   NaN"
      ]
     },
     "execution_count": 186,
     "metadata": {},
     "output_type": "execute_result"
    }
   ],
   "source": [
    "level1.head()"
   ]
  },
  {
   "cell_type": "code",
   "execution_count": 198,
   "metadata": {
    "ExecuteTime": {
     "end_time": "2021-04-30T06:41:46.107177Z",
     "start_time": "2021-04-30T06:41:45.885581Z"
    }
   },
   "outputs": [],
   "source": [
    "level2 = delhi_events_df.merge(level1,left_on='device_id',right_on='device_id')"
   ]
  },
  {
   "cell_type": "code",
   "execution_count": 199,
   "metadata": {
    "ExecuteTime": {
     "end_time": "2021-04-30T06:41:48.133598Z",
     "start_time": "2021-04-30T06:41:48.078267Z"
    }
   },
   "outputs": [
    {
     "data": {
      "text/html": [
       "<div>\n",
       "<style scoped>\n",
       "    .dataframe tbody tr th:only-of-type {\n",
       "        vertical-align: middle;\n",
       "    }\n",
       "\n",
       "    .dataframe tbody tr th {\n",
       "        vertical-align: top;\n",
       "    }\n",
       "\n",
       "    .dataframe thead th {\n",
       "        text-align: right;\n",
       "    }\n",
       "</style>\n",
       "<table border=\"1\" class=\"dataframe\">\n",
       "  <thead>\n",
       "    <tr style=\"text-align: right;\">\n",
       "      <th></th>\n",
       "      <th>event_id</th>\n",
       "      <th>device_id</th>\n",
       "      <th>timestamp</th>\n",
       "      <th>longitude</th>\n",
       "      <th>latitude</th>\n",
       "      <th>city</th>\n",
       "      <th>state</th>\n",
       "      <th>phone_brand</th>\n",
       "      <th>device_model</th>\n",
       "      <th>gender</th>\n",
       "      <th>age</th>\n",
       "      <th>group</th>\n",
       "    </tr>\n",
       "  </thead>\n",
       "  <tbody>\n",
       "    <tr>\n",
       "      <th>0</th>\n",
       "      <td>2765368</td>\n",
       "      <td>2973347786994914304</td>\n",
       "      <td>2016-05-07 22:52:05</td>\n",
       "      <td>77.2257</td>\n",
       "      <td>28.7301</td>\n",
       "      <td>Delhi</td>\n",
       "      <td>Delhi</td>\n",
       "      <td>优米</td>\n",
       "      <td>UIMI3</td>\n",
       "      <td>M</td>\n",
       "      <td>35.0</td>\n",
       "      <td>M32-38</td>\n",
       "    </tr>\n",
       "    <tr>\n",
       "      <th>1</th>\n",
       "      <td>1355198</td>\n",
       "      <td>2973347786994914304</td>\n",
       "      <td>2016-05-01 01:35:45</td>\n",
       "      <td>77.2257</td>\n",
       "      <td>28.7301</td>\n",
       "      <td>Delhi</td>\n",
       "      <td>Delhi</td>\n",
       "      <td>优米</td>\n",
       "      <td>UIMI3</td>\n",
       "      <td>M</td>\n",
       "      <td>35.0</td>\n",
       "      <td>M32-38</td>\n",
       "    </tr>\n",
       "    <tr>\n",
       "      <th>2</th>\n",
       "      <td>1630972</td>\n",
       "      <td>2973347786994914304</td>\n",
       "      <td>2016-05-03 00:07:34</td>\n",
       "      <td>77.2257</td>\n",
       "      <td>28.7301</td>\n",
       "      <td>Delhi</td>\n",
       "      <td>Delhi</td>\n",
       "      <td>优米</td>\n",
       "      <td>UIMI3</td>\n",
       "      <td>M</td>\n",
       "      <td>35.0</td>\n",
       "      <td>M32-38</td>\n",
       "    </tr>\n",
       "    <tr>\n",
       "      <th>3</th>\n",
       "      <td>2732453</td>\n",
       "      <td>2973347786994914304</td>\n",
       "      <td>2016-05-01 06:15:59</td>\n",
       "      <td>77.2257</td>\n",
       "      <td>28.7301</td>\n",
       "      <td>Delhi</td>\n",
       "      <td>Delhi</td>\n",
       "      <td>优米</td>\n",
       "      <td>UIMI3</td>\n",
       "      <td>M</td>\n",
       "      <td>35.0</td>\n",
       "      <td>M32-38</td>\n",
       "    </tr>\n",
       "    <tr>\n",
       "      <th>4</th>\n",
       "      <td>1562542</td>\n",
       "      <td>2973347786994914304</td>\n",
       "      <td>2016-05-01 20:34:19</td>\n",
       "      <td>77.2257</td>\n",
       "      <td>28.7301</td>\n",
       "      <td>Delhi</td>\n",
       "      <td>Delhi</td>\n",
       "      <td>优米</td>\n",
       "      <td>UIMI3</td>\n",
       "      <td>M</td>\n",
       "      <td>35.0</td>\n",
       "      <td>M32-38</td>\n",
       "    </tr>\n",
       "    <tr>\n",
       "      <th>...</th>\n",
       "      <td>...</td>\n",
       "      <td>...</td>\n",
       "      <td>...</td>\n",
       "      <td>...</td>\n",
       "      <td>...</td>\n",
       "      <td>...</td>\n",
       "      <td>...</td>\n",
       "      <td>...</td>\n",
       "      <td>...</td>\n",
       "      <td>...</td>\n",
       "      <td>...</td>\n",
       "      <td>...</td>\n",
       "    </tr>\n",
       "    <tr>\n",
       "      <th>2323</th>\n",
       "      <td>504374</td>\n",
       "      <td>-18969145338053044</td>\n",
       "      <td>2016-05-06 08:57:27</td>\n",
       "      <td>77.2849</td>\n",
       "      <td>28.7565</td>\n",
       "      <td>Delhi</td>\n",
       "      <td>Delhi</td>\n",
       "      <td>中国移动</td>\n",
       "      <td>A1</td>\n",
       "      <td>M</td>\n",
       "      <td>32.0</td>\n",
       "      <td>M32-38</td>\n",
       "    </tr>\n",
       "    <tr>\n",
       "      <th>2324</th>\n",
       "      <td>838753</td>\n",
       "      <td>-18969145338053044</td>\n",
       "      <td>2016-05-06 08:54:26</td>\n",
       "      <td>77.2849</td>\n",
       "      <td>28.7565</td>\n",
       "      <td>Delhi</td>\n",
       "      <td>Delhi</td>\n",
       "      <td>中国移动</td>\n",
       "      <td>A1</td>\n",
       "      <td>M</td>\n",
       "      <td>32.0</td>\n",
       "      <td>M32-38</td>\n",
       "    </tr>\n",
       "    <tr>\n",
       "      <th>2325</th>\n",
       "      <td>812482</td>\n",
       "      <td>-18969145338053044</td>\n",
       "      <td>2016-05-06 09:02:34</td>\n",
       "      <td>77.2849</td>\n",
       "      <td>28.7565</td>\n",
       "      <td>Delhi</td>\n",
       "      <td>Delhi</td>\n",
       "      <td>中国移动</td>\n",
       "      <td>A1</td>\n",
       "      <td>M</td>\n",
       "      <td>32.0</td>\n",
       "      <td>M32-38</td>\n",
       "    </tr>\n",
       "    <tr>\n",
       "      <th>2326</th>\n",
       "      <td>2576907</td>\n",
       "      <td>-18969145338053044</td>\n",
       "      <td>2016-05-06 08:54:50</td>\n",
       "      <td>77.2849</td>\n",
       "      <td>28.7565</td>\n",
       "      <td>Delhi</td>\n",
       "      <td>Delhi</td>\n",
       "      <td>中国移动</td>\n",
       "      <td>A1</td>\n",
       "      <td>M</td>\n",
       "      <td>32.0</td>\n",
       "      <td>M32-38</td>\n",
       "    </tr>\n",
       "    <tr>\n",
       "      <th>2327</th>\n",
       "      <td>10266</td>\n",
       "      <td>22261344324729364</td>\n",
       "      <td>2016-05-02 11:01:39</td>\n",
       "      <td>77.2707</td>\n",
       "      <td>28.7162</td>\n",
       "      <td>Delhi</td>\n",
       "      <td>Delhi</td>\n",
       "      <td>vivo</td>\n",
       "      <td>Y29L</td>\n",
       "      <td>M</td>\n",
       "      <td>62.0</td>\n",
       "      <td>M39+</td>\n",
       "    </tr>\n",
       "  </tbody>\n",
       "</table>\n",
       "<p>2328 rows × 12 columns</p>\n",
       "</div>"
      ],
      "text/plain": [
       "      event_id            device_id           timestamp longitude latitude  \\\n",
       "0      2765368  2973347786994914304 2016-05-07 22:52:05   77.2257  28.7301   \n",
       "1      1355198  2973347786994914304 2016-05-01 01:35:45   77.2257  28.7301   \n",
       "2      1630972  2973347786994914304 2016-05-03 00:07:34   77.2257  28.7301   \n",
       "3      2732453  2973347786994914304 2016-05-01 06:15:59   77.2257  28.7301   \n",
       "4      1562542  2973347786994914304 2016-05-01 20:34:19   77.2257  28.7301   \n",
       "...        ...                  ...                 ...       ...      ...   \n",
       "2323    504374   -18969145338053044 2016-05-06 08:57:27   77.2849  28.7565   \n",
       "2324    838753   -18969145338053044 2016-05-06 08:54:26   77.2849  28.7565   \n",
       "2325    812482   -18969145338053044 2016-05-06 09:02:34   77.2849  28.7565   \n",
       "2326   2576907   -18969145338053044 2016-05-06 08:54:50   77.2849  28.7565   \n",
       "2327     10266    22261344324729364 2016-05-02 11:01:39   77.2707  28.7162   \n",
       "\n",
       "       city  state phone_brand device_model gender   age   group  \n",
       "0     Delhi  Delhi          优米        UIMI3      M  35.0  M32-38  \n",
       "1     Delhi  Delhi          优米        UIMI3      M  35.0  M32-38  \n",
       "2     Delhi  Delhi          优米        UIMI3      M  35.0  M32-38  \n",
       "3     Delhi  Delhi          优米        UIMI3      M  35.0  M32-38  \n",
       "4     Delhi  Delhi          优米        UIMI3      M  35.0  M32-38  \n",
       "...     ...    ...         ...          ...    ...   ...     ...  \n",
       "2323  Delhi  Delhi        中国移动           A1      M  32.0  M32-38  \n",
       "2324  Delhi  Delhi        中国移动           A1      M  32.0  M32-38  \n",
       "2325  Delhi  Delhi        中国移动           A1      M  32.0  M32-38  \n",
       "2326  Delhi  Delhi        中国移动           A1      M  32.0  M32-38  \n",
       "2327  Delhi  Delhi        vivo         Y29L      M  62.0    M39+  \n",
       "\n",
       "[2328 rows x 12 columns]"
      ]
     },
     "execution_count": 199,
     "metadata": {},
     "output_type": "execute_result"
    }
   ],
   "source": [
    "level2"
   ]
  },
  {
   "cell_type": "code",
   "execution_count": 194,
   "metadata": {
    "ExecuteTime": {
     "end_time": "2021-04-29T21:08:41.216048Z",
     "start_time": "2021-04-29T21:08:40.759371Z"
    }
   },
   "outputs": [
    {
     "data": {
      "text/plain": [
       "device_id            0\n",
       "phone_brand     749469\n",
       "device_model    749469\n",
       "gender          749469\n",
       "age             749469\n",
       "group           749469\n",
       "event_id             0\n",
       "timestamp            0\n",
       "longitude            0\n",
       "latitude             0\n",
       "city                 0\n",
       "state                0\n",
       "dtype: int64"
      ]
     },
     "execution_count": 194,
     "metadata": {},
     "output_type": "execute_result"
    }
   ],
   "source": [
    "level2.isna().sum()"
   ]
  },
  {
   "cell_type": "code",
   "execution_count": 200,
   "metadata": {
    "ExecuteTime": {
     "end_time": "2021-04-30T06:42:46.609200Z",
     "start_time": "2021-04-30T06:42:46.542528Z"
    }
   },
   "outputs": [
    {
     "data": {
      "text/plain": [
       "array(['优米', '三星', 'vivo', 'OPPO', '酷派', '魅族', '华为', '乐视', 'HTC', '小米',\n",
       "       '中国移动'], dtype=object)"
      ]
     },
     "execution_count": 200,
     "metadata": {},
     "output_type": "execute_result"
    }
   ],
   "source": [
    "level2['phone_brand'].unique()"
   ]
  },
  {
   "cell_type": "code",
   "execution_count": 201,
   "metadata": {
    "ExecuteTime": {
     "end_time": "2021-04-30T06:52:51.050519Z",
     "start_time": "2021-04-30T06:52:50.992896Z"
    }
   },
   "outputs": [],
   "source": [
    "brand_eng_map = {\n",
    "    '优米':'Youmeco',\n",
    "    '三星':'Samsung',\n",
    "    '酷派':'Coolpad',\n",
    "    '魅族':'Meizu',\n",
    "    '华为':'Huawei',\n",
    "    '乐视':'Letv',\n",
    "    '小米':'Xiaomi',\n",
    "    '中国移动':'ChinaMobile'\n",
    "}"
   ]
  },
  {
   "cell_type": "code",
   "execution_count": 195,
   "metadata": {
    "ExecuteTime": {
     "end_time": "2021-04-29T21:10:03.647727Z",
     "start_time": "2021-04-29T21:10:03.630651Z"
    }
   },
   "outputs": [
    {
     "data": {
      "text/html": [
       "<div>\n",
       "<style scoped>\n",
       "    .dataframe tbody tr th:only-of-type {\n",
       "        vertical-align: middle;\n",
       "    }\n",
       "\n",
       "    .dataframe tbody tr th {\n",
       "        vertical-align: top;\n",
       "    }\n",
       "\n",
       "    .dataframe thead th {\n",
       "        text-align: right;\n",
       "    }\n",
       "</style>\n",
       "<table border=\"1\" class=\"dataframe\">\n",
       "  <thead>\n",
       "    <tr style=\"text-align: right;\">\n",
       "      <th></th>\n",
       "      <th>device_id</th>\n",
       "      <th>gender</th>\n",
       "      <th>age</th>\n",
       "      <th>group</th>\n",
       "    </tr>\n",
       "  </thead>\n",
       "  <tbody>\n",
       "  </tbody>\n",
       "</table>\n",
       "</div>"
      ],
      "text/plain": [
       "Empty DataFrame\n",
       "Columns: [device_id, gender, age, group]\n",
       "Index: []"
      ]
     },
     "execution_count": 195,
     "metadata": {},
     "output_type": "execute_result"
    }
   ],
   "source": [
    "gender_age_train_df[gender_age_train_df.device_id == 6364206277211502592]"
   ]
  },
  {
   "cell_type": "code",
   "execution_count": null,
   "metadata": {},
   "outputs": [],
   "source": []
  }
 ],
 "metadata": {
  "kernelspec": {
   "display_name": "Python 3",
   "language": "python",
   "name": "python3"
  },
  "language_info": {
   "codemirror_mode": {
    "name": "ipython",
    "version": 3
   },
   "file_extension": ".py",
   "mimetype": "text/x-python",
   "name": "python",
   "nbconvert_exporter": "python",
   "pygments_lexer": "ipython3",
   "version": "3.8.5"
  },
  "toc": {
   "base_numbering": 1,
   "nav_menu": {},
   "number_sections": true,
   "sideBar": true,
   "skip_h1_title": false,
   "title_cell": "Table of Contents",
   "title_sidebar": "Contents",
   "toc_cell": false,
   "toc_position": {},
   "toc_section_display": true,
   "toc_window_display": true
  },
  "varInspector": {
   "cols": {
    "lenName": 16,
    "lenType": 16,
    "lenVar": 40
   },
   "kernels_config": {
    "python": {
     "delete_cmd_postfix": "",
     "delete_cmd_prefix": "del ",
     "library": "var_list.py",
     "varRefreshCmd": "print(var_dic_list())"
    },
    "r": {
     "delete_cmd_postfix": ") ",
     "delete_cmd_prefix": "rm(",
     "library": "var_list.r",
     "varRefreshCmd": "cat(var_dic_list()) "
    }
   },
   "types_to_exclude": [
    "module",
    "function",
    "builtin_function_or_method",
    "instance",
    "_Feature"
   ],
   "window_display": false
  }
 },
 "nbformat": 4,
 "nbformat_minor": 4
}
